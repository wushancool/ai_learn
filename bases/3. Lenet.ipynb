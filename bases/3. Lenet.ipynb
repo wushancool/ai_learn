{
 "cells": [
  {
   "cell_type": "code",
   "execution_count": 2,
   "metadata": {},
   "outputs": [
    {
     "name": "stdout",
     "output_type": "stream",
     "text": [
      "size train: 60000  test: 10000\n"
     ]
    },
    {
     "data": {
      "text/plain": [
       "torch.Size([1, 28, 28])"
      ]
     },
     "execution_count": 2,
     "metadata": {},
     "output_type": "execute_result"
    }
   ],
   "source": [
    "import torch\n",
    "import torchvision\n",
    "from torchvision.transforms import ToTensor\n",
    "\n",
    "transform = ToTensor()\n",
    "train_dataset = torchvision.datasets.FashionMNIST(\"../data\", True,transform, download=True)\n",
    "test_dataset = torchvision.datasets.FashionMNIST(\"../data\", False,transform, download=True)\n",
    "classes = train_dataset.classes\n",
    "\n",
    "print( \"size train:\",len(train_dataset),\" test:\",len(test_dataset))\n",
    "train_dataset[0][0].shape"
   ]
  },
  {
   "cell_type": "code",
   "execution_count": 3,
   "metadata": {},
   "outputs": [
    {
     "data": {
      "text/plain": [
       "'Ankle boot'"
      ]
     },
     "execution_count": 3,
     "metadata": {},
     "output_type": "execute_result"
    },
    {
     "data": {
      "image/png": "[encoded data removed]",
      "text/plain": [
       "<Figure size 432x288 with 1 Axes>"
      ]
     },
     "metadata": {
      "needs_background": "light"
     },
     "output_type": "display_data"
    }
   ],
   "source": [
    "import matplotlib.pyplot as plt\n",
    "\n",
    "plt.imshow(train_dataset[0][0].reshape(28,28,1))\n",
    "classes[train_dataset[0][1]]"
   ]
  },
  {
   "cell_type": "code",
   "execution_count": 11,
   "metadata": {},
   "outputs": [
    {
     "name": "stdout",
     "output_type": "stream",
     "text": [
      "Input\ttorch.Size([64, 1, 28, 28])\n",
      "Conv2d\ttorch.Size([64, 6, 28, 28])\n",
      "BatchNorm2d\ttorch.Size([64, 6, 28, 28])\n",
      "ReLU\ttorch.Size([64, 6, 28, 28])\n",
      "MaxPool2d\ttorch.Size([64, 6, 14, 14])\n",
      "Conv2d\ttorch.Size([64, 16, 14, 14])\n",
      "BatchNorm2d\ttorch.Size([64, 16, 14, 14])\n",
      "ReLU\ttorch.Size([64, 16, 14, 14])\n",
      "MaxPool2d\ttorch.Size([64, 16, 7, 7])\n",
      "Flatten\ttorch.Size([64, 784])\n",
      "Linear\ttorch.Size([64, 120])\n",
      "ReLU\ttorch.Size([64, 120])\n",
      "Linear\ttorch.Size([64, 84])\n",
      "ReLU\ttorch.Size([64, 84])\n",
      "Linear\ttorch.Size([64, 10])\n"
     ]
    }
   ],
   "source": [
    "from torch import nn\n",
    "\n",
    "net = nn.Sequential(\n",
    "    nn.Conv2d(1, 6, kernel_size=5, padding=2),\n",
    "    nn.BatchNorm2d(6),\n",
    "    nn.ReLU(),\n",
    "    nn.MaxPool2d(2, 2),\n",
    "    nn.Conv2d(in_channels=6, out_channels=16, kernel_size=5, padding=2),\n",
    "    nn.BatchNorm2d(16),\n",
    "    nn.ReLU(),\n",
    "    nn.MaxPool2d(2, 2),\n",
    "    nn.Flatten(),\n",
    "    nn.Linear(16*7*7, 120),\n",
    "    nn.ReLU(),\n",
    "    nn.Linear(120, 84),\n",
    "    nn.ReLU(),\n",
    "    nn.Linear(84, len(classes))\n",
    ")\n",
    "\n",
    "\n",
    "X = torch.ones(64, 1, 28, 28)\n",
    "print(\"Input\\t\", X.shape, sep=\"\")\n",
    "for layer in net:\n",
    "    print(layer.__class__.__name__, end=\"\\t\")\n",
    "    X = layer(X)\n",
    "    print(X.shape)\n"
   ]
  },
  {
   "cell_type": "code",
   "execution_count": 14,
   "metadata": {},
   "outputs": [
    {
     "name": "stdout",
     "output_type": "stream",
     "text": [
      "epoch 1/20 time(7.61secs): loss 0.058, train accuracy: 97.7, test accuracy: 90.3\n",
      "epoch 2/20 time(7.29secs): loss 0.056, train accuracy: 97.9, test accuracy: 90.0\n",
      "epoch 3/20 time(7.55secs): loss 0.053, train accuracy: 98.0, test accuracy: 90.3\n",
      "epoch 4/20 time(7.59secs): loss 0.048, train accuracy: 98.2, test accuracy: 89.3\n",
      "epoch 5/20 time(7.56secs): loss 0.047, train accuracy: 98.2, test accuracy: 90.3\n",
      "epoch 6/20 time(7.28secs): loss 0.042, train accuracy: 98.4, test accuracy: 89.8\n",
      "epoch 7/20 time(7.56secs): loss 0.044, train accuracy: 98.4, test accuracy: 90.0\n",
      "epoch 8/20 time(7.44secs): loss 0.039, train accuracy: 98.6, test accuracy: 89.7\n",
      "epoch 9/20 time(7.70secs): loss 0.039, train accuracy: 98.5, test accuracy: 89.5\n",
      "epoch 10/20 time(7.51secs): loss 0.035, train accuracy: 98.7, test accuracy: 90.1\n",
      "epoch 11/20 time(7.82secs): loss 0.036, train accuracy: 98.6, test accuracy: 89.3\n",
      "epoch 12/20 time(7.79secs): loss 0.029, train accuracy: 98.9, test accuracy: 90.0\n",
      "epoch 13/20 time(7.84secs): loss 0.034, train accuracy: 98.8, test accuracy: 89.7\n",
      "epoch 14/20 time(7.30secs): loss 0.031, train accuracy: 98.9, test accuracy: 89.7\n",
      "epoch 15/20 time(7.45secs): loss 0.029, train accuracy: 99.0, test accuracy: 89.9\n",
      "epoch 16/20 time(7.63secs): loss 0.033, train accuracy: 98.8, test accuracy: 90.0\n",
      "epoch 17/20 time(7.51secs): loss 0.028, train accuracy: 98.9, test accuracy: 89.5\n",
      "epoch 18/20 time(7.60secs): loss 0.026, train accuracy: 99.1, test accuracy: 90.0\n",
      "epoch 19/20 time(7.63secs): loss 0.025, train accuracy: 99.1, test accuracy: 89.9\n",
      "epoch 20/20 time(7.81secs): loss 0.029, train accuracy: 98.9, test accuracy: 90.1\n"
     ]
    }
   ],
   "source": [
    "from torch.utils.data import DataLoader\n",
    "from time import time\n",
    "\n",
    "batch_size = 64\n",
    "train_loader = DataLoader(train_dataset, batch_size, True, num_workers = 3)\n",
    "test_loader = DataLoader(test_dataset, 128, True, num_workers = 3)\n",
    "\n",
    "criterion = nn.CrossEntropyLoss()\n",
    "optimizer = torch.optim.Adam(net.parameters(), lr = 1e-3)\n",
    "\n",
    "def eval(net, dataloader, device):\n",
    "    training = net.training\n",
    "    net.eval()\n",
    "    corrects, total = 0 , 0\n",
    "    for X, y in dataloader:\n",
    "        with torch.no_grad():\n",
    "            X, y = X.to(device), y.to(device)\n",
    "            y_hat = net(X)\n",
    "            corrects += (y==y_hat.argmax(-1)).sum().item()\n",
    "            total += len(y)\n",
    "    net.train(training)\n",
    "    return corrects / total\n",
    "\n",
    "def train(net, trainloader, testloader, optimizer, criterion, device):\n",
    "    corrects, losses, total = 0, 0, 0\n",
    "    net.to(device)\n",
    "    net.train()\n",
    "    for X, y in trainloader:\n",
    "        X,y  = X.to(device), y.to(device)\n",
    "        optimizer.zero_grad()\n",
    "        y_hat = net(X)\n",
    "        l = criterion(y_hat, y)\n",
    "        l.backward()\n",
    "        optimizer.step()\n",
    "        \n",
    "        corrects+= (y_hat.argmax(-1)==y).sum().item()\n",
    "        losses += l.item()\n",
    "        total += len(y)\n",
    "    val_acc = eval(net, testloader, device)\n",
    "    return losses/len(trainloader), corrects/total, val_acc\n",
    "\n",
    "epochs = 20\n",
    "for i in range(epochs):\n",
    "    start = time()\n",
    "    l, train_acc, test_acc = train(net, train_loader, test_loader, optimizer, criterion, torch.device(\"cuda\"))\n",
    "\n",
    "    print(f\"epoch {i+1}/{epochs} time({(time()-start):.2f}secs): loss {l:.3f}, train accuracy: {train_acc*100:.1f}, test accuracy: {test_acc*100:.1f}\")"
   ]
  }
 ],
 "metadata": {
  "interpreter": {
   "hash": "52a43bf58c8e38c358d0e5ec76af547cf96151476fbfbba148ea30ad14e34c7a"
  },
  "kernelspec": {
   "display_name": "Python 3.8.12 ('torch')",
   "language": "python",
   "name": "python3"
  },
  "language_info": {
   "codemirror_mode": {
    "name": "ipython",
    "version": 3
   },
   "file_extension": ".py",
   "mimetype": "text/x-python",
   "name": "python",
   "nbconvert_exporter": "python",
   "pygments_lexer": "ipython3",
   "version": "3.8.12"
  },
  "orig_nbformat": 4
 },
 "nbformat": 4,
 "nbformat_minor": 2
}
